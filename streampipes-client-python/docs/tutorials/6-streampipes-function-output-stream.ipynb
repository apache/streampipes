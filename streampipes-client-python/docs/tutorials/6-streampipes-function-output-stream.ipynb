{
 "cells": [
  {
   "cell_type": "markdown",
   "metadata": {},
   "source": [
    "# Creating Output Streams with StreamPipes Functions"
   ]
  },
  {
   "cell_type": "markdown",
   "metadata": {},
   "source": [
    "A StreamPipes Function is a practical tool to help you receive and send live data from and to your StreamPipes instance. This tutorial provides sample code for creating a StreamPipes Function that defines an output stream so you can get started right away by following the below steps."
   ]
  },
  {
   "cell_type": "markdown",
   "metadata": {},
   "source": [
    "## Connecting to your StreamPipes instance\n",
    "\n",
    "In order to receive and send live data from and to StreamPipes you will first have to connect to your instance by creating a StreamPipes Client by following the usual procedure. In this case we will be connecting to a local instance using Kafka. If you haven't already, you will need to open the kafka port manually inside the docker compose file by adding the following The following port mapping inside the `kafka` node:  \n",
    "\n",
    "```yml\n",
    "ports:\n",
    "  - \"9094:9094\"\n",
    "```"
   ]
  },
  {
   "cell_type": "code",
   "execution_count": 7,
   "metadata": {},
   "outputs": [],
   "source": [
    "import os\n",
    "\n",
    "os.environ[\"BROKER-HOST\"] = \"localhost\"\n",
    "os.environ[\"KAFKA-PORT\"] = \"9094\"\n",
    "api_key = os.environ.get(\"TOKEN\")"
   ]
  },
  {
   "cell_type": "code",
   "execution_count": 8,
   "metadata": {},
   "outputs": [
    {
     "name": "stdout",
     "output_type": "stream",
     "text": [
      "2024-07-25 13:24:34,045 - streampipes.client.client - [INFO] - [client.py:199] [_set_up_logging] - Logging successfully initialized with logging level INFO.\n",
      "2024-07-25 13:24:34,128 - streampipes.endpoint.endpoint - [INFO] - [endpoint.py:164] [_make_request] - Successfully retrieved all resources.\n",
      "2024-07-25 13:24:34,129 - streampipes.client.client - [INFO] - [client.py:172] [_get_server_version] - The StreamPipes version was successfully retrieved from the backend: 0.95.1. By means of that, authentication via the provided credentials is also tested successfully.\n"
     ]
    }
   ],
   "source": [
    "from streampipes.client import StreamPipesClient\n",
    "from streampipes.client.config import StreamPipesClientConfig\n",
    "from streampipes.client.credential_provider import StreamPipesApiKeyCredentials\n",
    "\n",
    "client_config = StreamPipesClientConfig(\n",
    "    credential_provider=StreamPipesApiKeyCredentials(username=\"admin@streampipes.apache.org\", api_key=api_key),\n",
    "    host_address=\"localhost\",\n",
    "    port=80,\n",
    "    https_disabled=True,\n",
    ")\n",
    "client = StreamPipesClient(client_config=client_config)"
   ]
  },
  {
   "cell_type": "markdown",
   "metadata": {},
   "source": [
    "## Loading a pretrained model for anomaly detection\n",
    "\n",
    "For the output stream we will use a pretrained model that was trained to detect blows to a device or to a sensor based on vibration data. The live data will be, similarly to the training data, data from a vibration sensor. The output will consist of the model's prediction for each event."
   ]
  },
  {
   "cell_type": "code",
   "execution_count": 9,
   "metadata": {},
   "outputs": [],
   "source": [
    "import joblib\n",
    "\n",
    "blow_detector = joblib.load(\"blow_detector.joblib\")"
   ]
  },
  {
   "cell_type": "markdown",
   "metadata": {},
   "source": [
    "## Creating an output stream\n",
    "\n",
    "You can create an output stream by using the `create_data_stream` method inside the functions `init` method. You need to specify the name that will be used to display the stream in StreamPipes alongside its `stream_id`, ``attributes``, and the ``broker``.\n",
    "\n",
    "```python\n",
    "def __init__(self, input_stream: DataStream):\n",
    "    output_stream = create_data_stream(\n",
    "                name=\"blow-detection\",\n",
    "                stream_id=\"blow-detection\",\n",
    "                attributes={\n",
    "                    \"is_blow\": RuntimeType.BOOLEAN.value\n",
    "                },\n",
    "                broker=get_broker_description(input_stream)\n",
    "            )\n",
    "```\n",
    "\n",
    "You can now add this ``output_stream`` to the function definition and pass it to the parent class.\n",
    "\n",
    "```python\n",
    "function_definition = FunctionDefinition(\n",
    "            consumed_streams=[input_stream.element_id]\n",
    "        ).add_output_data_stream(output_stream)\n",
    "\n",
    "super().__init__(function_definition=function_definition)\n",
    "```\n",
    "\n",
    "To classify the incoming event we need to convert it to a `pandas DataFrame` containing only the features the model was trained on. To create the output event we define a dictionary with the key being equvalent to the key we defined for the `attributes` in the `create_data_stream` method. The value will be the model's prediction. Lastly we call the ``add_output`` method and use the above specified ``function_definition`` to get the ``stream_id``. All this is happening inside the `onEvent` method of the function because this method will be called for every incoming event.\n",
    "\n",
    "```python\n",
    "        features = pd.DataFrame({k: event[k] for k in ['Crest', 'aPeak', 'aRms']}, index=[0])\n",
    "        prediction = blow_detector.predict(features)[0]\n",
    "        \n",
    "        output = {\n",
    "            \"is_blow\": prediction\n",
    "        }\n",
    "            \n",
    "        self.add_output(\n",
    "            stream_id=self.function_definition.get_output_stream_ids()[0],\n",
    "            event=output\n",
    "        )\n",
    "```"
   ]
  },
  {
   "cell_type": "markdown",
   "metadata": {},
   "source": [
    "## Creating the StreamPipes Function\n",
    "\n",
    "The code below shows an example function and also demonstrates how to include the output stream creation."
   ]
  },
  {
   "cell_type": "code",
   "execution_count": 22,
   "metadata": {},
   "outputs": [],
   "source": [
    "import pandas as pd\n",
    "from typing import Dict, Any\n",
    "from streampipes.functions.streampipes_function import StreamPipesFunction\n",
    "from streampipes.functions.utils.data_stream_generator import create_data_stream, RuntimeType\n",
    "from streampipes.functions.broker.broker_handler import get_broker_description\n",
    "from streampipes.model.resource import FunctionDefinition, DataStream\n",
    "from streampipes.functions.utils.function_context import FunctionContext\n",
    "from streampipes.functions.function_handler import FunctionHandler\n",
    "from streampipes.functions.registration import Registration\n",
    "\n",
    "class SimpleFunction(StreamPipesFunction):\n",
    "    def __init__(self, input_stream: DataStream):\n",
    "        output_stream = create_data_stream(\n",
    "            name=\"blow-detection\",\n",
    "            stream_id=\"blow-detection\",\n",
    "            attributes={\n",
    "                \"is_blow\": RuntimeType.BOOLEAN.value\n",
    "            },\n",
    "            broker=get_broker_description(input_stream)\n",
    "        )\n",
    "        \n",
    "        function_definition = FunctionDefinition(\n",
    "            consumed_streams=[input_stream.element_id]\n",
    "        ).add_output_data_stream(output_stream)\n",
    "\n",
    "        super().__init__(function_definition=function_definition)\n",
    "\n",
    "    def onServiceStarted(self, context: FunctionContext):\n",
    "        pass\n",
    "\n",
    "    def onEvent(self, event: Dict[str, Any], streamId: str):\n",
    "        features = ['Crest', 'aPeak', 'aRms']\n",
    "        features_df = pd.DataFrame({k: event[k] for k in features}, index=[0])\n",
    "        prediction = blow_detector.predict(features_df)[0]\n",
    "        output = {\n",
    "            \"is_blow\": int(prediction) == 1\n",
    "        }\n",
    "            \n",
    "        self.add_output(\n",
    "            stream_id=self.function_definition.get_output_stream_ids()[0],\n",
    "            event=output\n",
    "        )\n",
    "\n",
    "    def onServiceStopped(self):\n",
    "        pass"
   ]
  },
  {
   "cell_type": "markdown",
   "metadata": {},
   "source": [
    "## Instantiating and starting the function\n",
    "\n",
    "To Instantiate the function we pass the required input stream, then we register the function using an instance of the class `Registration` after which we can use the function handler to initialize all registered functions using the client."
   ]
  },
  {
   "cell_type": "code",
   "execution_count": 23,
   "metadata": {},
   "outputs": [
    {
     "name": "stdout",
     "output_type": "stream",
     "text": [
      "2024-07-25 13:29:20,020 - streampipes.endpoint.endpoint - [INFO] - [endpoint.py:164] [_make_request] - Successfully retrieved all resources.\n",
      "2024-07-25 13:29:20,108 - streampipes.functions.function_handler - [INFO] - [function_handler.py:76] [initializeFunctions] - The data stream could not be created.\n",
      "2024-07-25 13:29:20,108 - streampipes.functions.function_handler - [INFO] - [function_handler.py:78] [initializeFunctions] - This is due to the fact that this data stream already exists. Continuing with the existing data stream.\n",
      "2024-07-25 13:29:20,109 - streampipes.functions.function_handler - [INFO] - [function_handler.py:84] [initializeFunctions] - Using output data stream 'blow-detection' for function '76f51282-0297-44d9-8e38-515cad9e2dc1'\n",
      "2024-07-25 13:29:20,243 - streampipes.endpoint.endpoint - [INFO] - [endpoint.py:164] [_make_request] - Successfully retrieved all resources.\n",
      "2024-07-25 13:29:20,244 - streampipes.functions.function_handler - [INFO] - [function_handler.py:100] [initializeFunctions] - Using KafkaConsumer for SimpleFunction\n"
     ]
    },
    {
     "name": "stdout",
     "output_type": "stream",
     "text": [
      "2024-07-25 13:29:20,253 - streampipes.functions.broker.kafka.kafka_publisher - [INFO] - [kafka_publisher.py:49] [_make_connection] - Connecting to Kafka at localhost:9094\n",
      "2024-07-25 13:29:20,257 - streampipes.functions.broker.kafka.kafka_consumer - [INFO] - [kafka_consumer.py:52] [_make_connection] - Connecting to Kafka at localhost:9094\n",
      "2024-07-25 13:29:20,258 - streampipes.functions.broker.kafka.kafka_consumer - [INFO] - [kafka_consumer.py:62] [_create_subscription] - Subscribing to stream: sp:spdatastream:wTJHYy\n",
      "2024-07-25 13:29:51,553 - streampipes.functions.broker.kafka.kafka_publisher - [INFO] - [kafka_publisher.py:73] [disconnect] - Stopped connection to stream: blow-detection\n"
     ]
    }
   ],
   "source": [
    "stream = [stream for stream in client.dataStreamApi.all() if stream.name == \"vibration-data\"][0]\n",
    "\n",
    "simple_function = SimpleFunction(input_stream=stream)\n",
    "\n",
    "registration = Registration()\n",
    "registration.register(simple_function)\n",
    "\n",
    "function_handler = FunctionHandler(registration, client)\n",
    "function_handler.initializeFunctions()"
   ]
  },
  {
   "cell_type": "markdown",
   "metadata": {},
   "source": [
    "If we now go into StreamPipes, create a new pipeline and view the info for our output stream we can see the live predictions coming in:  \n",
    "\n",
    "![](sp_tutorial_output_stream.png)"
   ]
  },
  {
   "cell_type": "markdown",
   "metadata": {},
   "source": [
    "To stop the function we call the function handler's `disconnect` method:"
   ]
  },
  {
   "cell_type": "code",
   "execution_count": 24,
   "metadata": {},
   "outputs": [
    {
     "name": "stdout",
     "output_type": "stream",
     "text": [
      "2024-07-25 13:29:51,376 - streampipes.functions.broker.kafka.kafka_consumer - [INFO] - [kafka_consumer.py:72] [disconnect] - Stopped connection to stream: sp:spdatastream:wTJHYy\n"
     ]
    }
   ],
   "source": [
    "function_handler.disconnect()"
   ]
  },
  {
   "cell_type": "markdown",
   "metadata": {},
   "source": [
    "## Visualizing the predictions\n",
    "\n",
    "We can go a step further and make some modifications to the current functions to visualize the live data as well as the predictions. We will collect all events in a ` pandas DataFrame` and add a new column for the predictions. The advanced function will have the following additions:\n",
    "\n",
    "1. Define an empty `pandas Dataframe` inside of the constructur that will be used to collect the events:\n",
    "\n",
    "```python\n",
    "self.df = pd.DataFrame()\n",
    "```\n",
    "\n",
    "2. Get the name of the timestamp column:\n",
    "\n",
    "```python\n",
    "def onServiceStarted(self, context: FunctionContext):\n",
    "        for event_property in context.schema[context.streams[0]].event_schema.event_properties:\n",
    "            if event_property.property_scope == \"HEADER_PROPERTY\":\n",
    "                self.timestamp = event_property.runtime_name\n",
    "```\n",
    "\n",
    "3. Convert the timestamp to datetime format, use the model to make predictions like earlier, but this time add the prediction as a new key-value pair to the event and lastly add the event to the empty `DataFrame`. The output event stays the same.\n",
    "\n",
    "```python\n",
    "def onEvent(self, event: Dict[str, Any], streamId: str):\n",
    "        event[self.timestamp] = pd.to_datetime(event[self.timestamp], unit=\"ms\") # convert to datetime\n",
    "        event_df = pd.DataFrame(event, index=[event['timestamp']]) # transform event into dataframe\n",
    "        features = ['Crest', 'aPeak', 'aRms']\n",
    "        features_df = event_df[features] # select the features for the model\n",
    "        prediction = blow_detector.predict(features_df)[0] # make a prediction\n",
    "        event[\"is_blow\"] = prediction # add it to the event\n",
    "        \n",
    "        self.df = pd.concat( # add the event to the DataFrame\n",
    "            [self.df, pd.DataFrame({key: [event[key]] for key in event.keys()}).set_index(self.timestamp)]\n",
    "        )\n",
    "        \n",
    "        output = {\n",
    "            \"is_blow\": prediction\n",
    "        }\n",
    "\n",
    "        self.add_output(\n",
    "            stream_id=self.function_definition.get_output_stream_ids()[0],\n",
    "            event=output\n",
    "        )\n",
    "```"
   ]
  },
  {
   "cell_type": "code",
   "execution_count": 25,
   "metadata": {},
   "outputs": [],
   "source": [
    "class AdvancedFunction(StreamPipesFunction):\n",
    "    def __init__(self, input_stream: DataStream):\n",
    "        output_stream = create_data_stream(\n",
    "            name=\"blow-detection\",\n",
    "            stream_id=\"blow-detection\",\n",
    "            attributes={\n",
    "                \"is_blow\": RuntimeType.BOOLEAN.value\n",
    "            },\n",
    "            broker=get_broker_description(input_stream)\n",
    "        )\n",
    "        \n",
    "        function_definition = FunctionDefinition(\n",
    "            consumed_streams=[input_stream.element_id]\n",
    "        ).add_output_data_stream(output_stream)\n",
    "\n",
    "        super().__init__(function_definition=function_definition)\n",
    "\n",
    "        self.df = pd.DataFrame()\n",
    "\n",
    "    def onServiceStarted(self, context: FunctionContext):\n",
    "        for event_property in context.schema[context.streams[0]].event_schema.event_properties:\n",
    "            if event_property.property_scope == \"HEADER_PROPERTY\":\n",
    "                self.timestamp = event_property.runtime_name\n",
    "\n",
    "    def onEvent(self, event: Dict[str, Any], streamId: str):\n",
    "        event[self.timestamp] = pd.to_datetime(event[self.timestamp], unit=\"ms\")\n",
    "        event_df = pd.DataFrame(event, index=[event['timestamp']])\n",
    "        features = ['Crest', 'aPeak', 'aRms']\n",
    "        features_df = event_df[features]\n",
    "        prediction = blow_detector.predict(features_df)[0]\n",
    "        event[\"is_blow\"] = prediction\n",
    "        \n",
    "        self.df = pd.concat(\n",
    "            [self.df, pd.DataFrame({key: [event[key]] for key in event.keys()}).set_index(self.timestamp)]\n",
    "        )\n",
    "        \n",
    "        output = {\n",
    "            \"is_blow\": int(prediction) == 1\n",
    "        }\n",
    "\n",
    "        self.add_output(\n",
    "            stream_id=self.function_definition.get_output_stream_ids()[0],\n",
    "            event=output\n",
    "        )\n",
    "\n",
    "    def onServiceStopped(self):\n",
    "        pass"
   ]
  },
  {
   "cell_type": "code",
   "execution_count": 26,
   "metadata": {},
   "outputs": [
    {
     "name": "stdout",
     "output_type": "stream",
     "text": [
      "2024-07-25 13:30:10,528 - streampipes.endpoint.endpoint - [INFO] - [endpoint.py:164] [_make_request] - Successfully retrieved all resources.\n",
      "2024-07-25 13:30:10,613 - streampipes.functions.function_handler - [INFO] - [function_handler.py:76] [initializeFunctions] - The data stream could not be created.\n",
      "2024-07-25 13:30:10,614 - streampipes.functions.function_handler - [INFO] - [function_handler.py:78] [initializeFunctions] - This is due to the fact that this data stream already exists. Continuing with the existing data stream.\n",
      "2024-07-25 13:30:10,614 - streampipes.functions.function_handler - [INFO] - [function_handler.py:84] [initializeFunctions] - Using output data stream 'blow-detection' for function 'cc867aec-b44b-4c5a-bc16-0609d316def9'\n",
      "2024-07-25 13:30:10,700 - streampipes.endpoint.endpoint - [INFO] - [endpoint.py:164] [_make_request] - Successfully retrieved all resources.\n",
      "2024-07-25 13:30:10,701 - streampipes.functions.function_handler - [INFO] - [function_handler.py:100] [initializeFunctions] - Using KafkaConsumer for AdvancedFunction\n"
     ]
    },
    {
     "name": "stdout",
     "output_type": "stream",
     "text": [
      "2024-07-25 13:30:10,706 - streampipes.functions.broker.kafka.kafka_publisher - [INFO] - [kafka_publisher.py:49] [_make_connection] - Connecting to Kafka at localhost:9094\n",
      "2024-07-25 13:30:10,708 - streampipes.functions.broker.kafka.kafka_consumer - [INFO] - [kafka_consumer.py:52] [_make_connection] - Connecting to Kafka at localhost:9094\n",
      "2024-07-25 13:30:10,708 - streampipes.functions.broker.kafka.kafka_consumer - [INFO] - [kafka_consumer.py:62] [_create_subscription] - Subscribing to stream: sp:spdatastream:wTJHYy\n",
      "2024-07-25 13:31:21,556 - streampipes.functions.broker.kafka.kafka_publisher - [INFO] - [kafka_publisher.py:73] [disconnect] - Stopped connection to stream: blow-detection\n"
     ]
    }
   ],
   "source": [
    "stream = [stream for stream in client.dataStreamApi.all() if stream.name == \"vibration-data\"][0]\n",
    "\n",
    "advanced_function = AdvancedFunction(input_stream=stream)\n",
    "\n",
    "registration = Registration()\n",
    "registration.register(advanced_function)\n",
    "\n",
    "function_handler = FunctionHandler(registration, client)\n",
    "function_handler.initializeFunctions()"
   ]
  },
  {
   "cell_type": "code",
   "execution_count": 27,
   "metadata": {},
   "outputs": [
    {
     "name": "stdout",
     "output_type": "stream",
     "text": [
      "2024-07-25 13:31:21,550 - streampipes.functions.broker.kafka.kafka_consumer - [INFO] - [kafka_consumer.py:72] [disconnect] - Stopped connection to stream: sp:spdatastream:wTJHYy\n"
     ]
    }
   ],
   "source": [
    "function_handler.disconnect()"
   ]
  },
  {
   "cell_type": "code",
   "execution_count": 28,
   "metadata": {},
   "outputs": [
    {
     "data": {
      "text/html": [
       "<div>\n",
       "<style scoped>\n",
       "    .dataframe tbody tr th:only-of-type {\n",
       "        vertical-align: middle;\n",
       "    }\n",
       "\n",
       "    .dataframe tbody tr th {\n",
       "        vertical-align: top;\n",
       "    }\n",
       "\n",
       "    .dataframe thead th {\n",
       "        text-align: right;\n",
       "    }\n",
       "</style>\n",
       "<table border=\"1\" class=\"dataframe\">\n",
       "  <thead>\n",
       "    <tr style=\"text-align: right;\">\n",
       "      <th></th>\n",
       "      <th>Crest</th>\n",
       "      <th>aRms</th>\n",
       "      <th>aPeak</th>\n",
       "      <th>is_blow</th>\n",
       "    </tr>\n",
       "    <tr>\n",
       "      <th>timestamp</th>\n",
       "      <th></th>\n",
       "      <th></th>\n",
       "      <th></th>\n",
       "      <th></th>\n",
       "    </tr>\n",
       "  </thead>\n",
       "  <tbody>\n",
       "    <tr>\n",
       "      <th>2024-07-25 11:30:11.250</th>\n",
       "      <td>3.6</td>\n",
       "      <td>0.0</td>\n",
       "      <td>0.2</td>\n",
       "      <td>False</td>\n",
       "    </tr>\n",
       "    <tr>\n",
       "      <th>2024-07-25 11:30:11.757</th>\n",
       "      <td>4.4</td>\n",
       "      <td>0.0</td>\n",
       "      <td>0.2</td>\n",
       "      <td>False</td>\n",
       "    </tr>\n",
       "    <tr>\n",
       "      <th>2024-07-25 11:30:12.263</th>\n",
       "      <td>4.2</td>\n",
       "      <td>0.0</td>\n",
       "      <td>0.2</td>\n",
       "      <td>False</td>\n",
       "    </tr>\n",
       "    <tr>\n",
       "      <th>2024-07-25 11:30:12.768</th>\n",
       "      <td>3.9</td>\n",
       "      <td>0.0</td>\n",
       "      <td>0.2</td>\n",
       "      <td>False</td>\n",
       "    </tr>\n",
       "    <tr>\n",
       "      <th>2024-07-25 11:30:13.276</th>\n",
       "      <td>4.1</td>\n",
       "      <td>0.0</td>\n",
       "      <td>0.2</td>\n",
       "      <td>False</td>\n",
       "    </tr>\n",
       "    <tr>\n",
       "      <th>...</th>\n",
       "      <td>...</td>\n",
       "      <td>...</td>\n",
       "      <td>...</td>\n",
       "      <td>...</td>\n",
       "    </tr>\n",
       "    <tr>\n",
       "      <th>2024-07-25 11:31:19.451</th>\n",
       "      <td>4.4</td>\n",
       "      <td>0.0</td>\n",
       "      <td>0.2</td>\n",
       "      <td>False</td>\n",
       "    </tr>\n",
       "    <tr>\n",
       "      <th>2024-07-25 11:31:19.956</th>\n",
       "      <td>4.3</td>\n",
       "      <td>0.0</td>\n",
       "      <td>0.2</td>\n",
       "      <td>False</td>\n",
       "    </tr>\n",
       "    <tr>\n",
       "      <th>2024-07-25 11:31:20.461</th>\n",
       "      <td>3.7</td>\n",
       "      <td>0.0</td>\n",
       "      <td>0.2</td>\n",
       "      <td>False</td>\n",
       "    </tr>\n",
       "    <tr>\n",
       "      <th>2024-07-25 11:31:20.968</th>\n",
       "      <td>3.9</td>\n",
       "      <td>0.0</td>\n",
       "      <td>0.2</td>\n",
       "      <td>False</td>\n",
       "    </tr>\n",
       "    <tr>\n",
       "      <th>2024-07-25 11:31:21.474</th>\n",
       "      <td>4.1</td>\n",
       "      <td>0.0</td>\n",
       "      <td>0.2</td>\n",
       "      <td>False</td>\n",
       "    </tr>\n",
       "  </tbody>\n",
       "</table>\n",
       "<p>137 rows × 4 columns</p>\n",
       "</div>"
      ],
      "text/plain": [
       "                         Crest  aRms  aPeak  is_blow\n",
       "timestamp                                           \n",
       "2024-07-25 11:30:11.250    3.6   0.0    0.2    False\n",
       "2024-07-25 11:30:11.757    4.4   0.0    0.2    False\n",
       "2024-07-25 11:30:12.263    4.2   0.0    0.2    False\n",
       "2024-07-25 11:30:12.768    3.9   0.0    0.2    False\n",
       "2024-07-25 11:30:13.276    4.1   0.0    0.2    False\n",
       "...                        ...   ...    ...      ...\n",
       "2024-07-25 11:31:19.451    4.4   0.0    0.2    False\n",
       "2024-07-25 11:31:19.956    4.3   0.0    0.2    False\n",
       "2024-07-25 11:31:20.461    3.7   0.0    0.2    False\n",
       "2024-07-25 11:31:20.968    3.9   0.0    0.2    False\n",
       "2024-07-25 11:31:21.474    4.1   0.0    0.2    False\n",
       "\n",
       "[137 rows x 4 columns]"
      ]
     },
     "execution_count": 28,
     "metadata": {},
     "output_type": "execute_result"
    }
   ],
   "source": [
    "vibration_data = advanced_function.df[[\"Crest\", \"aRms\", \"aPeak\", \"is_blow\"]]\n",
    "vibration_data"
   ]
  },
  {
   "cell_type": "markdown",
   "metadata": {},
   "source": [
    "When plotting the data, we can see that two blows have been correctly identified:"
   ]
  },
  {
   "cell_type": "code",
   "execution_count": 31,
   "metadata": {},
   "outputs": [
    {
     "data": {
      "image/png": "[encoded data removed]",
      "text/plain": [
       "<Figure size 1400x600 with 1 Axes>"
      ]
     },
     "metadata": {},
     "output_type": "display_data"
    }
   ],
   "source": [
    "import seaborn as sns\n",
    "import matplotlib.pyplot as plt\n",
    "\n",
    "vibration_data_long = pd.melt(vibration_data.reset_index(), id_vars=['timestamp', 'is_blow'], value_vars=vibration_data.select_dtypes(\"number\").columns)\n",
    "\n",
    "plt.figure(figsize=(14, 6))\n",
    "sns.set_theme()\n",
    "sns.scatterplot(data=vibration_data_long, x='timestamp', y='value', hue='is_blow')\n",
    "\n",
    "plt.xlabel('Timestamp')\n",
    "plt.ylabel('Value')\n",
    "plt.title('Vibration Data Detected Blows')\n",
    "\n",
    "plt.show()\n"
   ]
  },
  {
   "cell_type": "markdown",
   "metadata": {},
   "source": [
    "In conclusion, this tutorial has successfully demonstrated how to generate output streams using a StreamPipes Function.  \n",
    "We hope you found this tutorial helpful and would appreciate your feedback. Please visit our GitHub discussion page to share your impressions. We promise to read and respond to every comment!\n"
   ]
  }
 ],
 "metadata": {
  "kernelspec": {
   "display_name": ".venv",
   "language": "python",
   "name": "python3"
  },
  "language_info": {
   "codemirror_mode": {
    "name": "ipython",
    "version": 3
   },
   "file_extension": ".py",
   "mimetype": "text/x-python",
   "name": "python",
   "nbconvert_exporter": "python",
   "pygments_lexer": "ipython3",
   "version": "3.10.0"
  }
 },
 "nbformat": 4,
 "nbformat_minor": 2
}
