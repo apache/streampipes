{
 "cells": [
  {
   "attachments": {},
   "cell_type": "markdown",
   "metadata": {},
   "source": [
    "# Getting live data from the StreamPipes data stream\n",
    "In the last tutorial ([Extracting Data from the StreamPipes data lake](../2-extracting-data-from-the-streampipes-data-lake)) we learned how to extract the stored data from a StreamPipes data lake. This tutorial is about the StreamPipes data stream and shows how to get the live data from StreamPipes into Python. Therefore, we first create the `client` instance as before."
   ]
  },
  {
   "attachments": {},
   "cell_type": "markdown",
   "metadata": {},
   "source": [
    "**Note**  \n",
    "As of now we mainly developed the support for StreamPipes functions using NATS as messaging protocol. Consequently, this setup is tested most and should work flawlessly. Visit our [first-steps](../../getting-started/first-steps) page to see how to start StreamPipes accordingly.\n",
    "Anyhow, you can also use the other [brokers](../../reference/functions/broker/broker) that are currently supported in StreamPipes Python.\n",
    "In case you observe any problems, please reach out to us and file us an [issue](https://github.com/apache/streampipes/issues) on GitHub."
   ]
  },
  {
   "cell_type": "code",
   "execution_count": 1,
   "metadata": {},
   "outputs": [],
   "source": [
    "from streampipes.client import StreamPipesClient\n",
    "from streampipes.client.config import StreamPipesClientConfig\n",
    "from streampipes.client.credential_provider import StreamPipesApiKeyCredentials"
   ]
  },
  {
   "cell_type": "code",
   "execution_count": null,
   "outputs": [],
   "source": [
    "# You can install all required libraries for this tutorial with the following command\n",
    "%pip install matplotlib ipython streampipes"
   ],
   "metadata": {
    "collapsed": false
   }
  },
  {
   "cell_type": "code",
   "execution_count": 2,
   "metadata": {},
   "outputs": [],
   "source": [
    "import os\n",
    "\n",
    "os.environ[\"USER\"] = \"admin@streampipes.apache.org\"\n",
    "os.environ[\"API-KEY\"] = \"XXX\"\n",
    "os.environ[\"BROKER-HOST\"] = \"localhost\"  # Use this if you work locally"
   ]
  },
  {
   "cell_type": "code",
   "execution_count": 3,
   "metadata": {},
   "outputs": [
    {
     "name": "stdout",
     "output_type": "stream",
     "text": [
      "2022-12-14 10:43:37,664 - streampipes.client.client - [INFO] - [client.py:127] [_set_up_logging] - Logging successfully initialized with logging level INFO.\n"
     ]
    }
   ],
   "source": [
    "client_config = StreamPipesClientConfig(\n",
    "    credential_provider=StreamPipesApiKeyCredentials.from_env(username_env=\"USER\", api_key_env=\"API-KEY\"),\n",
    "    host_address=\"localhost\",\n",
    "    port=80,\n",
    "    https_disabled=True,\n",
    ")\n",
    "client = StreamPipesClient(client_config=client_config)"
   ]
  },
  {
   "attachments": {},
   "cell_type": "markdown",
   "metadata": {},
   "source": [
    "Now we can have a look at the available data streams. We can choose one or more stream to receive the data from and copy their `element_id`."
   ]
  },
  {
   "cell_type": "code",
   "execution_count": 4,
   "metadata": {},
   "outputs": [
    {
     "name": "stdout",
     "output_type": "stream",
     "text": [
      "2022-12-14 10:43:39,944 - streampipes.endpoint.endpoint - [INFO] - [endpoint.py:153] [_make_request] - Successfully retrieved all resources.\n"
     ]
    },
    {
     "data": {
      "text/html": [
       "<div>\n",
       "<style scoped>\n",
       "    .dataframe tbody tr th:only-of-type {\n",
       "        vertical-align: middle;\n",
       "    }\n",
       "\n",
       "    .dataframe tbody tr th {\n",
       "        vertical-align: top;\n",
       "    }\n",
       "\n",
       "    .dataframe thead th {\n",
       "        text-align: right;\n",
       "    }\n",
       "</style>\n",
       "<table border=\"1\" class=\"dataframe\">\n",
       "  <thead>\n",
       "    <tr style=\"text-align: right;\">\n",
       "      <th></th>\n",
       "      <th>element_id</th>\n",
       "      <th>name</th>\n",
       "      <th>description</th>\n",
       "      <th>icon_url</th>\n",
       "      <th>app_id</th>\n",
       "      <th>includes_assets</th>\n",
       "      <th>includes_locales</th>\n",
       "      <th>internally_managed</th>\n",
       "      <th>measurement_object</th>\n",
       "      <th>index</th>\n",
       "      <th>...</th>\n",
       "      <th>uri</th>\n",
       "      <th>dom</th>\n",
       "      <th>num_transport_protocols</th>\n",
       "      <th>num_measurement_capability</th>\n",
       "      <th>num_application_links</th>\n",
       "      <th>num_included_assets</th>\n",
       "      <th>num_connected_to</th>\n",
       "      <th>num_category</th>\n",
       "      <th>num_event_properties</th>\n",
       "      <th>num_included_locales</th>\n",
       "    </tr>\n",
       "  </thead>\n",
       "  <tbody>\n",
       "    <tr>\n",
       "      <th>0</th>\n",
       "      <td>urn:streampipes.apache.org:eventstream:HHoidJ</td>\n",
       "      <td>Test2</td>\n",
       "      <td></td>\n",
       "      <td>None</td>\n",
       "      <td>None</td>\n",
       "      <td>False</td>\n",
       "      <td>False</td>\n",
       "      <td>True</td>\n",
       "      <td>None</td>\n",
       "      <td>0</td>\n",
       "      <td>...</td>\n",
       "      <td>urn:streampipes.apache.org:eventstream:HHoidJ</td>\n",
       "      <td>None</td>\n",
       "      <td>1</td>\n",
       "      <td>0</td>\n",
       "      <td>0</td>\n",
       "      <td>0</td>\n",
       "      <td>0</td>\n",
       "      <td>0</td>\n",
       "      <td>7</td>\n",
       "      <td>0</td>\n",
       "    </tr>\n",
       "    <tr>\n",
       "      <th>1</th>\n",
       "      <td>urn:streampipes.apache.org:eventstream:uPDKLI</td>\n",
       "      <td>Test</td>\n",
       "      <td></td>\n",
       "      <td>None</td>\n",
       "      <td>None</td>\n",
       "      <td>False</td>\n",
       "      <td>False</td>\n",
       "      <td>True</td>\n",
       "      <td>None</td>\n",
       "      <td>0</td>\n",
       "      <td>...</td>\n",
       "      <td>urn:streampipes.apache.org:eventstream:uPDKLI</td>\n",
       "      <td>None</td>\n",
       "      <td>1</td>\n",
       "      <td>0</td>\n",
       "      <td>0</td>\n",
       "      <td>0</td>\n",
       "      <td>0</td>\n",
       "      <td>0</td>\n",
       "      <td>7</td>\n",
       "      <td>0</td>\n",
       "    </tr>\n",
       "  </tbody>\n",
       "</table>\n",
       "<p>2 rows × 21 columns</p>\n",
       "</div>"
      ],
      "text/plain": [
       "                                      element_id   name description icon_url  \\\n",
       "0  urn:streampipes.apache.org:eventstream:HHoidJ  Test2                 None   \n",
       "1  urn:streampipes.apache.org:eventstream:uPDKLI   Test                 None   \n",
       "\n",
       "  app_id  includes_assets  includes_locales  internally_managed  \\\n",
       "0   None            False             False                True   \n",
       "1   None            False             False                True   \n",
       "\n",
       "  measurement_object  index  ...  \\\n",
       "0               None      0  ...   \n",
       "1               None      0  ...   \n",
       "\n",
       "                                             uri   dom  \\\n",
       "0  urn:streampipes.apache.org:eventstream:HHoidJ  None   \n",
       "1  urn:streampipes.apache.org:eventstream:uPDKLI  None   \n",
       "\n",
       "  num_transport_protocols  num_measurement_capability  num_application_links  \\\n",
       "0                       1                           0                      0   \n",
       "1                       1                           0                      0   \n",
       "\n",
       "   num_included_assets  num_connected_to  num_category  num_event_properties  \\\n",
       "0                    0                 0             0                     7   \n",
       "1                    0                 0             0                     7   \n",
       "\n",
       "   num_included_locales  \n",
       "0                     0  \n",
       "1                     0  \n",
       "\n",
       "[2 rows x 21 columns]"
      ]
     },
     "execution_count": 4,
     "metadata": {},
     "output_type": "execute_result"
    }
   ],
   "source": [
    "client.dataStreamApi.all().to_pandas()"
   ]
  },
  {
   "attachments": {},
   "cell_type": "markdown",
   "metadata": {},
   "source": [
    "Next we can create a StreamPipesFunction. For this we need to implement the 4 following methods:\n",
    "- In `requiredStreamIds` you need to insert the `element_id` of the required streams.\n",
    "- `onServiceStarted` is called when the function gets started. There you can use the given meta information of the `FunctionContext` to initialize the function.\n",
    "- `onEvent` is called when ever a new event arrives. The `event` contains the live data and you can use the `streamId` to identify a stream if the function is connected to multiple data streams.\n",
    "- `onServiceStopped` is called when the function gets stopped.\n",
    "\n",
    "For this tutorial we just create a function that saves every new event in a `pandas DataFrame` and plots the first column of the `DataFrame` when the function gets stopped."
   ]
  },
  {
   "cell_type": "code",
   "execution_count": 5,
   "metadata": {},
   "outputs": [],
   "source": [
    "from typing import List, Dict, Any\n",
    "import pandas as pd\n",
    "from datetime import datetime\n",
    "import matplotlib.pyplot as plt\n",
    "from streampipes.functions.function_handler import FunctionHandler\n",
    "from streampipes.functions.registration import Registration\n",
    "from streampipes.functions.streampipes_function import StreamPipesFunction\n",
    "from streampipes.functions.utils.function_context import FunctionContext\n",
    "\n",
    "\n",
    "class ExampleFunction(StreamPipesFunction):\n",
    "    def __init__(self) -> None:\n",
    "        super().__init__()\n",
    "        # Create the Dataframe to save the live data\n",
    "        self.df = pd.DataFrame()\n",
    "\n",
    "    def requiredStreamIds(self) -> List[str]:\n",
    "        return [\"urn:streampipes.apache.org:eventstream:uPDKLI\"]\n",
    "\n",
    "    def onServiceStarted(self, context: FunctionContext):\n",
    "        # Get the name of the timestamp field\n",
    "        for event_property in context.schema[context.streams[0]].event_schema.event_properties:\n",
    "            if event_property.property_scope == \"HEADER_PROPERTY\":\n",
    "                self.timestamp = event_property.runtime_name\n",
    "\n",
    "    def onEvent(self, event: Dict[str, Any], streamId: str):\n",
    "        # Convert the unix timestamp to datetime\n",
    "        event[self.timestamp] = datetime.fromtimestamp(event[self.timestamp] / 1000)\n",
    "        # Add every value of the event to the DataFrame\n",
    "        self.df = pd.concat(\n",
    "            [self.df, pd.DataFrame({key: [event[key]] for key in event.keys()}).set_index(self.timestamp)]\n",
    "        )\n",
    "\n",
    "    def onServiceStopped(self):\n",
    "        # Plot the first column of the Dataframe\n",
    "        plt.figure(figsize=(10, 5))\n",
    "        plt.xlabel(self.timestamp)\n",
    "        plt.ylabel(self.df.columns[0])\n",
    "        plt.plot(self.df.iloc[:, 0])\n",
    "        plt.show()"
   ]
  },
  {
   "attachments": {},
   "cell_type": "markdown",
   "metadata": {},
   "source": [
    "Now we can start the function. We have to register an instance of the `StreamPipesFunction` and them we can start the functions by initializing the `FunctionHandler`. (it's also possible to register multiple functions with `.register(...).register(...)`)"
   ]
  },
  {
   "cell_type": "code",
   "execution_count": 6,
   "metadata": {},
   "outputs": [
    {
     "name": "stdout",
     "output_type": "stream",
     "text": [
      "2022-12-14 10:43:42,810 - streampipes.endpoint.endpoint - [INFO] - [endpoint.py:153] [_make_request] - Successfully retrieved all resources.\n",
      "2022-12-14 10:43:42,812 - streampipes.functions.function_handler - [INFO] - [function_handler.py:82] [initializeFunctions] - Using NatsBroker for <__main__.ExampleFunction object at 0x000001F2EF298D90>\n"
     ]
    }
   ],
   "source": [
    "example_function = ExampleFunction()\n",
    "\n",
    "registration = Registration()\n",
    "registration.register(example_function)\n",
    "\n",
    "function_handler = FunctionHandler(registration, client)\n",
    "function_handler.initializeFunctions()"
   ]
  },
  {
   "attachments": {},
   "cell_type": "markdown",
   "metadata": {},
   "source": [
    "The `DataFrame` of the `ExampleFunction` gets updated whenever a new event arrives. Let's test this by executing the cell below.  "
   ]
  },
  {
   "cell_type": "code",
   "execution_count": 7,
   "metadata": {},
   "outputs": [
    {
     "data": {
      "text/html": [
       "<div>\n",
       "<style scoped>\n",
       "    .dataframe tbody tr th:only-of-type {\n",
       "        vertical-align: middle;\n",
       "    }\n",
       "\n",
       "    .dataframe tbody tr th {\n",
       "        vertical-align: top;\n",
       "    }\n",
       "\n",
       "    .dataframe thead th {\n",
       "        text-align: right;\n",
       "    }\n",
       "</style>\n",
       "<table border=\"1\" class=\"dataframe\">\n",
       "  <thead>\n",
       "    <tr style=\"text-align: right;\">\n",
       "      <th></th>\n",
       "      <th>mass_flow</th>\n",
       "      <th>density</th>\n",
       "      <th>volume_flow</th>\n",
       "      <th>sensor_fault_flags</th>\n",
       "      <th>temperature</th>\n",
       "      <th>sensorId</th>\n",
       "    </tr>\n",
       "    <tr>\n",
       "      <th>timestamp</th>\n",
       "      <th></th>\n",
       "      <th></th>\n",
       "      <th></th>\n",
       "      <th></th>\n",
       "      <th></th>\n",
       "      <th></th>\n",
       "    </tr>\n",
       "  </thead>\n",
       "  <tbody>\n",
       "    <tr>\n",
       "      <th>2022-12-14 10:43:43.357</th>\n",
       "      <td>10.955496</td>\n",
       "      <td>47.546290</td>\n",
       "      <td>1.001985</td>\n",
       "      <td>False</td>\n",
       "      <td>44.993413</td>\n",
       "      <td>flowrate02</td>\n",
       "    </tr>\n",
       "    <tr>\n",
       "      <th>2022-12-14 10:43:44.371</th>\n",
       "      <td>6.499040</td>\n",
       "      <td>44.392069</td>\n",
       "      <td>2.034402</td>\n",
       "      <td>False</td>\n",
       "      <td>41.232352</td>\n",
       "      <td>flowrate02</td>\n",
       "    </tr>\n",
       "    <tr>\n",
       "      <th>2022-12-14 10:43:45.382</th>\n",
       "      <td>10.168300</td>\n",
       "      <td>41.192146</td>\n",
       "      <td>9.724287</td>\n",
       "      <td>False</td>\n",
       "      <td>46.812779</td>\n",
       "      <td>flowrate02</td>\n",
       "    </tr>\n",
       "    <tr>\n",
       "      <th>2022-12-14 10:43:46.395</th>\n",
       "      <td>10.849059</td>\n",
       "      <td>50.086308</td>\n",
       "      <td>5.832691</td>\n",
       "      <td>False</td>\n",
       "      <td>45.860412</td>\n",
       "      <td>flowrate02</td>\n",
       "    </tr>\n",
       "    <tr>\n",
       "      <th>2022-12-14 10:43:47.410</th>\n",
       "      <td>3.081855</td>\n",
       "      <td>47.254246</td>\n",
       "      <td>8.860531</td>\n",
       "      <td>False</td>\n",
       "      <td>50.505801</td>\n",
       "      <td>flowrate02</td>\n",
       "    </tr>\n",
       "    <tr>\n",
       "      <th>...</th>\n",
       "      <td>...</td>\n",
       "      <td>...</td>\n",
       "      <td>...</td>\n",
       "      <td>...</td>\n",
       "      <td>...</td>\n",
       "      <td>...</td>\n",
       "    </tr>\n",
       "    <tr>\n",
       "      <th>2022-12-14 10:44:43.920</th>\n",
       "      <td>1.803572</td>\n",
       "      <td>41.978894</td>\n",
       "      <td>10.294002</td>\n",
       "      <td>False</td>\n",
       "      <td>47.820239</td>\n",
       "      <td>flowrate02</td>\n",
       "    </tr>\n",
       "    <tr>\n",
       "      <th>2022-12-14 10:44:44.932</th>\n",
       "      <td>1.967062</td>\n",
       "      <td>42.212883</td>\n",
       "      <td>3.237440</td>\n",
       "      <td>False</td>\n",
       "      <td>49.047258</td>\n",
       "      <td>flowrate02</td>\n",
       "    </tr>\n",
       "    <tr>\n",
       "      <th>2022-12-14 10:44:45.934</th>\n",
       "      <td>4.457819</td>\n",
       "      <td>47.561256</td>\n",
       "      <td>0.315024</td>\n",
       "      <td>False</td>\n",
       "      <td>40.223413</td>\n",
       "      <td>flowrate02</td>\n",
       "    </tr>\n",
       "    <tr>\n",
       "      <th>2022-12-14 10:44:46.949</th>\n",
       "      <td>8.745343</td>\n",
       "      <td>46.346891</td>\n",
       "      <td>7.439090</td>\n",
       "      <td>False</td>\n",
       "      <td>41.982529</td>\n",
       "      <td>flowrate02</td>\n",
       "    </tr>\n",
       "    <tr>\n",
       "      <th>2022-12-14 10:44:47.950</th>\n",
       "      <td>5.828744</td>\n",
       "      <td>47.679720</td>\n",
       "      <td>6.307405</td>\n",
       "      <td>False</td>\n",
       "      <td>42.100354</td>\n",
       "      <td>flowrate02</td>\n",
       "    </tr>\n",
       "  </tbody>\n",
       "</table>\n",
       "<p>65 rows × 6 columns</p>\n",
       "</div>"
      ],
      "text/plain": [
       "                         mass_flow    density  volume_flow  \\\n",
       "timestamp                                                    \n",
       "2022-12-14 10:43:43.357  10.955496  47.546290     1.001985   \n",
       "2022-12-14 10:43:44.371   6.499040  44.392069     2.034402   \n",
       "2022-12-14 10:43:45.382  10.168300  41.192146     9.724287   \n",
       "2022-12-14 10:43:46.395  10.849059  50.086308     5.832691   \n",
       "2022-12-14 10:43:47.410   3.081855  47.254246     8.860531   \n",
       "...                            ...        ...          ...   \n",
       "2022-12-14 10:44:43.920   1.803572  41.978894    10.294002   \n",
       "2022-12-14 10:44:44.932   1.967062  42.212883     3.237440   \n",
       "2022-12-14 10:44:45.934   4.457819  47.561256     0.315024   \n",
       "2022-12-14 10:44:46.949   8.745343  46.346891     7.439090   \n",
       "2022-12-14 10:44:47.950   5.828744  47.679720     6.307405   \n",
       "\n",
       "                         sensor_fault_flags  temperature    sensorId  \n",
       "timestamp                                                             \n",
       "2022-12-14 10:43:43.357               False    44.993413  flowrate02  \n",
       "2022-12-14 10:43:44.371               False    41.232352  flowrate02  \n",
       "2022-12-14 10:43:45.382               False    46.812779  flowrate02  \n",
       "2022-12-14 10:43:46.395               False    45.860412  flowrate02  \n",
       "2022-12-14 10:43:47.410               False    50.505801  flowrate02  \n",
       "...                                     ...          ...         ...  \n",
       "2022-12-14 10:44:43.920               False    47.820239  flowrate02  \n",
       "2022-12-14 10:44:44.932               False    49.047258  flowrate02  \n",
       "2022-12-14 10:44:45.934               False    40.223413  flowrate02  \n",
       "2022-12-14 10:44:46.949               False    41.982529  flowrate02  \n",
       "2022-12-14 10:44:47.950               False    42.100354  flowrate02  \n",
       "\n",
       "[65 rows x 6 columns]"
      ]
     },
     "metadata": {},
     "output_type": "display_data"
    }
   ],
   "source": [
    "import asyncio\n",
    "from asyncio.exceptions import CancelledError\n",
    "from IPython.display import clear_output\n",
    "\n",
    "while True:\n",
    "    clear_output(wait=True)\n",
    "    display(example_function.df)\n",
    "    try:\n",
    "        await asyncio.sleep(1)\n",
    "    except CancelledError:\n",
    "        break"
   ]
  },
  {
   "attachments": {},
   "cell_type": "markdown",
   "metadata": {},
   "source": [
    "The `while` loop just displays the the `DataFrame` every second until the cell is stopped. We could achieve the same result manually by executing `example_function.df` repeatedly."
   ]
  },
  {
   "attachments": {},
   "cell_type": "markdown",
   "metadata": {},
   "source": [
    "You can stop the functions whenever you want by executing the command below."
   ]
  },
  {
   "cell_type": "code",
   "execution_count": null,
   "metadata": {},
   "outputs": [
    {
     "name": "stdout",
     "output_type": "stream",
     "text": [
      "2022-12-14 10:44:53,309 - streampipes.functions.broker.nats_broker - [INFO] - [nats_broker.py:67] [disconnect] - Stopped connection to stream: urn:streampipes.apache.org:eventstream:uPDKLI\n"
     ]
    },
    {
     "data": {
      "image/png": "[encoded data removed]",
      "text/plain": [
       "<Figure size 1000x500 with 1 Axes>"
      ]
     },
     "metadata": {},
     "output_type": "display_data"
    }
   ],
   "source": [
    "function_handler.disconnect()"
   ]
  },
  {
   "attachments": {},
   "cell_type": "markdown",
   "metadata": {},
   "source": [
    "That's enough for this tutorial. Now you can try to write your own `StreamPipesFunction`. All you need to do is creating a new class, implementing the 4 required methods and registering the function.\n"
   ]
  },
  {
   "cell_type": "markdown",
   "source": [
    "Want to see more exciting use cases you can achieve with StreamPipes functions in Python? Then don't hesitate and jump to our [next tutorial](../4-using-online-machine-learning-on-a-streampipes-data-stream) on applying online machine learning algorithms to StreamPipes data streams with [River](https://riverml.xyz)."
   ],
   "metadata": {
    "collapsed": false
   }
  },
  {
   "attachments": {},
   "cell_type": "markdown",
   "metadata": {},
   "source": [
    "How do you like this tutorial?\n",
    "We hope you like it and would love to receive some feedback from you.\n",
    "Just go to our [GitHub discussion page](https://github.com/apache/streampipes/discussions) and let us know your impression.\n",
    "We'll read and react to them all, we promise!"
   ]
  },
  {
   "cell_type": "markdown",
   "metadata": {},
   "source": []
  }
 ],
 "metadata": {
  "kernelspec": {
   "display_name": "Python 3.10.7 64-bit",
   "language": "python",
   "name": "python3"
  },
  "language_info": {
   "codemirror_mode": {
    "name": "ipython",
    "version": 3
   },
   "file_extension": ".py",
   "mimetype": "text/x-python",
   "name": "python",
   "nbconvert_exporter": "python",
   "pygments_lexer": "ipython3",
   "version": "3.10.7"
  },
  "license": "https://www.apache.org/licenses/LICENSE-2.0",
  "orig_nbformat": 4,
  "vscode": {
   "interpreter": {
    "hash": "5b0c980f854fedc946bf92df903f8f9d5dc7805e8fffb7a1ceb21db6f8b983e3"
   }
  }
 },
 "nbformat": 4,
 "nbformat_minor": 2
}
